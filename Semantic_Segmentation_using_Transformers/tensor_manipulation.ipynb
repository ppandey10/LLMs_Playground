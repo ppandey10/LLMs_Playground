{
 "cells": [
  {
   "cell_type": "code",
   "execution_count": 1,
   "metadata": {},
   "outputs": [],
   "source": [
    "import torch\n",
    "import torch.nn as nn\n",
    "from einops import rearrange"
   ]
  },
  {
   "cell_type": "code",
   "execution_count": 8,
   "metadata": {},
   "outputs": [
    {
     "name": "stdout",
     "output_type": "stream",
     "text": [
      "torch.Size([1, 16, 12])\n"
     ]
    }
   ],
   "source": [
    "X = torch.randint(3, (1, 16, 10)).float() # Patch embeddings\n",
    "\n",
    "# Linear projection layer\n",
    "linear_projection = torch.nn.Linear(10, 12)\n",
    "\n",
    "# Project patch embeddings to hidden dimension\n",
    "projected_patches = linear_projection(X)\n",
    "\n",
    "print(projected_patches.shape)"
   ]
  },
  {
   "cell_type": "code",
   "execution_count": 13,
   "metadata": {},
   "outputs": [
    {
     "name": "stdout",
     "output_type": "stream",
     "text": [
      "torch.Size([1, 21, 10])\n",
      "torch.Size([1, 5, 10])\n"
     ]
    }
   ],
   "source": [
    "# Assume X and C are tensors with different shapes\n",
    "X = torch.randn(1, 16, 10) # Patch embeddings\n",
    "C = nn.Parameter(torch.randn(1, 5, 10)) # Class embeddings with different shape\n",
    "\n",
    "C = C.expand(X.size(0), -1, -1)\n",
    "X = torch.cat((X, C), 1)\n",
    "\n",
    "print(X.shape)\n",
    "print(C.shape)\n",
    "\n",
    "# Add class embeddings to patches (broadcasting)\n",
    "# X_new = X + C\n",
    "\n",
    "# # Check the shape of the result\n",
    "# print(X_new)\n",
    "# print(X_new.shape)  # Output: torch.Size([1, 16, 256])\n"
   ]
  },
  {
   "cell_type": "code",
   "execution_count": 25,
   "metadata": {},
   "outputs": [
    {
     "name": "stdout",
     "output_type": "stream",
     "text": [
      "torch.Size([1, 3, 224, 224])\n"
     ]
    }
   ],
   "source": [
    "rand_tensor = torch.randint(5, (1, 3, 224, 224)).float()\n",
    "print(rand_tensor.shape)"
   ]
  },
  {
   "cell_type": "code",
   "execution_count": 20,
   "metadata": {},
   "outputs": [
    {
     "name": "stdout",
     "output_type": "stream",
     "text": [
      "torch.Size([1, 3, 50176])\n"
     ]
    }
   ],
   "source": [
    "flat_img = nn.Flatten(\n",
    "    start_dim=2, \n",
    "    end_dim=3\n",
    ")\n",
    "print(flat_img(rand_tensor).shape) # (3, 16*16)"
   ]
  },
  {
   "cell_type": "code",
   "execution_count": 26,
   "metadata": {},
   "outputs": [],
   "source": [
    "class PatchEmbedding(nn.Module):\n",
    "    \"\"\"\n",
    "    Turns 2D images into patches and then flattens each patch.\n",
    "    \"\"\"\n",
    "    def __init__(self, in_channels: int, patch_size: int, embd_dim: int):\n",
    "        super().__init__()\n",
    "        self.patcher = nn.Conv2d(\n",
    "            in_channels=in_channels, # 3\n",
    "            out_channels=embd_dim, # 768, since each patch 16x16 with 3 channels. Hence, each patch should have 768 tokens.\n",
    "            kernel_size=patch_size, # 16\n",
    "            stride=patch_size, # 16\n",
    "            padding=0, \n",
    "        )\n",
    "\n",
    "        self.flatten = nn.Flatten(start_dim=2, end_dim=3) # (b, c, h, w) -> (b, c, h*w)\n",
    "    \n",
    "    def forward(self, x):\n",
    "        x = self.patcher(x)\n",
    "        x = self.flatten(x)\n",
    "        return x"
   ]
  },
  {
   "cell_type": "code",
   "execution_count": 27,
   "metadata": {},
   "outputs": [
    {
     "name": "stdout",
     "output_type": "stream",
     "text": [
      "torch.Size([1, 768, 14, 14])\n"
     ]
    }
   ],
   "source": [
    "patcher = PatchEmbedding(\n",
    "    in_channels=3,\n",
    "    patch_size=16,\n",
    "    embd_dim=768\n",
    ")\n",
    "\n",
    "out = patcher(rand_tensor)\n",
    "print(out.shape)"
   ]
  },
  {
   "cell_type": "code",
   "execution_count": 2,
   "metadata": {},
   "outputs": [],
   "source": [
    "\n",
    "#==============================================================================================#\n",
    "# Patch embedding class\n",
    "class PatchEmbedding(nn.Module):\n",
    "    \"\"\"\n",
    "    Turns 2D images into patches and then flattens each patch.\n",
    "    \"\"\"\n",
    "    def __init__(self, in_channels: int, patch_size: int, embd_dim: int):\n",
    "        super().__init__()\n",
    "        self.patcher = nn.Conv2d(\n",
    "            in_channels=in_channels, # 3\n",
    "            out_channels=embd_dim, # 768, since each patch 16x16 with 3 channels. Hence, each patch should have 768 tokens.\n",
    "            kernel_size=patch_size, # 16\n",
    "            stride=patch_size, # 16\n",
    "        )\n",
    "\n",
    "        self.flatten = nn.Flatten(start_dim=2, end_dim=3) # (b, c, h, w) -> (b, c, h*w)\n",
    "    \n",
    "    def forward(self, x):\n",
    "        x = self.patcher(x)\n",
    "        x = self.flatten(x)\n",
    "        return x.permute(0, 2, 1) # (b, embd_dim, num_patches) -> (b, num_patches, embd_dim)\n",
    "    \n",
    "#================================================================================================#\n",
    "# Multihead attention block\n",
    "class MultiHeadAttentionBlock(nn.Module):\n",
    "    \"\"\"\n",
    "    Creates multihead attention blocks\n",
    "    \"\"\"\n",
    "    def __init__(\n",
    "        self,\n",
    "        embd_dim: int, \n",
    "        num_heads: int,\n",
    "        attn_drop: float\n",
    "    ):\n",
    "        super().__init__()\n",
    "\n",
    "        # Define normalization layer (mentioned in the ViT paper)\n",
    "        self.layernorm = nn.LayerNorm(normalized_shape=embd_dim)\n",
    "\n",
    "        # Define multihead attention from torch library\n",
    "        self.multihead_attn = nn.MultiheadAttention(\n",
    "            embed_dim=embd_dim,\n",
    "            num_heads=num_heads,\n",
    "            dropout=attn_drop,\n",
    "            batch_first=True, # makes sure that batch dimension comes first\n",
    "        )\n",
    "\n",
    "    def forward(self, x):\n",
    "        x = self.layernorm(x)\n",
    "        attn_output, _ = self.multihead_attn(\n",
    "            query=x,\n",
    "            key=x,\n",
    "            value=x, \n",
    "            need_weights=False, # do we need the weights or just the layer outputs?\n",
    "        )\n",
    "        return attn_output\n",
    "    "
   ]
  },
  {
   "cell_type": "code",
   "execution_count": 3,
   "metadata": {},
   "outputs": [],
   "source": [
    "# Define MLP block \n",
    "class MLPBlock(nn.Module):\n",
    "    \"\"\"\n",
    "    Simple MLP block from the ViT paper\n",
    "    \"\"\"\n",
    "    def __init__(\n",
    "        self, \n",
    "        embd_dim: int,\n",
    "        mlp_size: int, # 3072 (as mentioned in ViT paper)\n",
    "        mlp_drop: float,\n",
    "    ):\n",
    "        super().__init__()\n",
    "        # Normalization\n",
    "        self.layernorm = nn.LayerNorm(normalized_shape=embd_dim)\n",
    "\n",
    "        # Feed forward network \n",
    "        self.ffwd = nn.Sequential(\n",
    "            nn.Linear(in_features=embd_dim, out_features=mlp_size),\n",
    "            nn.GELU(),\n",
    "            nn.Dropout(mlp_drop),\n",
    "            nn.Linear(in_features=mlp_size, out_features=embd_dim),\n",
    "            nn.Dropout(),\n",
    "        )\n",
    "\n",
    "    def forward(self, x):\n",
    "        x = self.layernorm(x)\n",
    "        x = self.ffwd(x)\n",
    "        return x\n",
    "    "
   ]
  },
  {
   "cell_type": "code",
   "execution_count": 4,
   "metadata": {},
   "outputs": [],
   "source": [
    "# Define Encoder\n",
    "class SegmenterEncoder(nn.Module):\n",
    "    \"\"\"\n",
    "    Encoder block of Segmenter with residual connections. It's structure is similar to ViT.\n",
    "    \"\"\"\n",
    "    def __init__(\n",
    "        self, \n",
    "        embd_dim: int, \n",
    "        num_heads: int,\n",
    "        mlp_size: int, \n",
    "        attn_drop: float, \n",
    "        mlp_drop: float\n",
    "    ):\n",
    "        super().__init__()\n",
    "        # start with multihead self attention\n",
    "        self.msa = MultiHeadAttentionBlock(\n",
    "            embd_dim=embd_dim,\n",
    "            num_heads=num_heads,\n",
    "            attn_drop=attn_drop\n",
    "        )\n",
    "\n",
    "        self.mlp = MLPBlock(\n",
    "            embd_dim=embd_dim,\n",
    "            mlp_size=mlp_size,\n",
    "            mlp_drop=mlp_drop\n",
    "        )\n",
    "\n",
    "    def forward(self, x):\n",
    "        # add residual connections\n",
    "        x += self.msa(x)\n",
    "        x += self.mlp(x)\n",
    "        return x"
   ]
  },
  {
   "cell_type": "code",
   "execution_count": 47,
   "metadata": {},
   "outputs": [],
   "source": [
    "class MaskTransformer(nn.Module):\n",
    "    \"\"\"\n",
    "    Transformer-based decoder + \n",
    "    \"\"\"\n",
    "    def __init__(\n",
    "        self,\n",
    "        num_class: int,\n",
    "        patch_size: int,\n",
    "        dims_encoder: int,\n",
    "        num_layers: int,\n",
    "        num_heads: int,\n",
    "        dims_model: int,\n",
    "        dims_ffwd: int, \n",
    "        attn_drop: float,\n",
    "        mlp_drop: float \n",
    "    ):\n",
    "        super().__init__()\n",
    "        self.num_class = num_class\n",
    "        self.patch_size = patch_size\n",
    "        self.dims_encoder = dims_encoder\n",
    "        self.num_layers = num_layers\n",
    "        self.dims_model = dims_model\n",
    "        self.dims_ffwd = dims_ffwd\n",
    "        self.scale_factor = dims_encoder ** -0.5\n",
    "\n",
    "        # Create transformer blocks\n",
    "        self.blocks = nn.ModuleList(\n",
    "            [SegmenterEncoder(\n",
    "                embd_dim=dims_model,\n",
    "                num_heads=num_heads,\n",
    "                mlp_size=dims_ffwd,\n",
    "                attn_drop=attn_drop,\n",
    "                mlp_drop=mlp_drop   \n",
    "            ) \n",
    "            for _ in range(num_layers)\n",
    "            ]\n",
    "        )\n",
    "\n",
    "        # Initialise parameters\n",
    "        self.cls_embd = nn.Parameter(torch.randn(1, num_class, dims_model))\n",
    "        self.proj_dec = nn.Linear(dims_encoder, dims_model)\n",
    "        self.proj_patch = nn.Parameter(self.scale_factor * torch.randn(dims_model, dims_model))\n",
    "        self.proj_classes = nn.Parameter(self.scale_factor * torch.randn(dims_model, dims_model))\n",
    "        self.decoder_norm = nn.LayerNorm(dims_model)\n",
    "        self.mask_norm = nn.LayerNorm(num_class)\n",
    "\n",
    "    def forward(self, x, img_size):\n",
    "        H, W = img_size\n",
    "        GS = H // self.patch_size\n",
    "\n",
    "        # Project encoder output\n",
    "        x = self.proj_dec(x)\n",
    "\n",
    "        # Add class embeddings\n",
    "        cls_embd = self.cls_embd.expand(x.size(0), -1, -1)\n",
    "        x = torch.cat((x, cls_embd), 1)\n",
    "        # Transformer layers\n",
    "        for block in self.blocks:\n",
    "            x = block(x)\n",
    "        x = self.decoder_norm(x)\n",
    "\n",
    "        patches, cls_seg_feat = x[:, : -self.num_class], x[:, -self.num_class :]\n",
    "\n",
    "        patches = patches @ self.proj_patch\n",
    "        cls_seg_feat = cls_seg_feat @ self.proj_classes\n",
    "\n",
    "        patches = patches / patches.norm(dim=-1, keepdim=True)\n",
    "        cls_seg_feat = cls_seg_feat / cls_seg_feat.norm(dim=-1, keepdim=True)\n",
    "\n",
    "        masks = patches @ cls_seg_feat.transpose(1, 2)\n",
    "        masks = self.mask_norm(masks)\n",
    "\n",
    "        masks = rearrange(masks, \"b (h w) n -> b n h w\", h=int(GS)) # (1, num_patches, num_class) -> (1, num_class, patch_size, patch_size)\n",
    "        return masks"
   ]
  },
  {
   "cell_type": "code",
   "execution_count": 48,
   "metadata": {},
   "outputs": [],
   "source": [
    "import numpy as np\n",
    "\n",
    "# Generate a random RGB image of size 256x256\n",
    "image_size = (224, 224, 3)\n",
    "random_image = np.random.randint(0, 256, size=image_size, dtype=np.uint8)"
   ]
  },
  {
   "cell_type": "code",
   "execution_count": 49,
   "metadata": {},
   "outputs": [],
   "source": [
    "# Generate random patch embeddings with shape (1, num_patches, embedding_dim)\n",
    "num_patches = 196\n",
    "embedding_dim = 768\n",
    "random_patches = torch.randn(1, num_patches, embedding_dim)"
   ]
  },
  {
   "cell_type": "code",
   "execution_count": 50,
   "metadata": {},
   "outputs": [],
   "source": [
    "# Define model parameters\n",
    "num_classes = 10\n",
    "patch_size = 16\n",
    "dims_encoder = embedding_dim\n",
    "num_layers = 6\n",
    "num_heads = 8\n",
    "dims_model = 768\n",
    "dims_ffwd = 2048\n",
    "attn_drop = 0.1\n",
    "mlp_drop = 0.1\n",
    "\n",
    "# Create MaskTransformer instance\n",
    "mask_transformer = MaskTransformer(\n",
    "    num_class=num_classes,\n",
    "    patch_size=patch_size,\n",
    "    dims_encoder=dims_encoder,\n",
    "    num_layers=num_layers,\n",
    "    num_heads=num_heads,\n",
    "    dims_model=dims_model,\n",
    "    dims_ffwd=dims_ffwd,\n",
    "    attn_drop=attn_drop,\n",
    "    mlp_drop=mlp_drop\n",
    ")\n",
    "\n",
    "# Forward pass\n",
    "masks = mask_transformer(random_patches, image_size[:2])"
   ]
  },
  {
   "cell_type": "code",
   "execution_count": 51,
   "metadata": {},
   "outputs": [
    {
     "name": "stdout",
     "output_type": "stream",
     "text": [
      "torch.Size([1, 10, 14, 14])\n"
     ]
    }
   ],
   "source": [
    "print(masks.shape)"
   ]
  },
  {
   "cell_type": "code",
   "execution_count": 15,
   "metadata": {},
   "outputs": [
    {
     "name": "stdout",
     "output_type": "stream",
     "text": [
      "torch.Size([1, 196, 768])\n"
     ]
    }
   ],
   "source": [
    "print(output.shape) # (1, num_patches + num_class, dims_decoder)"
   ]
  },
  {
   "cell_type": "code",
   "execution_count": 23,
   "metadata": {},
   "outputs": [
    {
     "name": "stdout",
     "output_type": "stream",
     "text": [
      "torch.Size([1, 196, 768])\n",
      "torch.Size([1, 10, 768])\n"
     ]
    }
   ],
   "source": [
    "print(patches.shape)\n",
    "print(cls_seg_feat.shape)"
   ]
  },
  {
   "cell_type": "code",
   "execution_count": null,
   "metadata": {},
   "outputs": [],
   "source": []
  }
 ],
 "metadata": {
  "kernelspec": {
   "display_name": "en23",
   "language": "python",
   "name": "kernel_name"
  },
  "language_info": {
   "codemirror_mode": {
    "name": "ipython",
    "version": 3
   },
   "file_extension": ".py",
   "mimetype": "text/x-python",
   "name": "python",
   "nbconvert_exporter": "python",
   "pygments_lexer": "ipython3",
   "version": "3.10.13"
  }
 },
 "nbformat": 4,
 "nbformat_minor": 2
}
