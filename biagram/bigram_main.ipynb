{
 "cells": [
  {
   "cell_type": "markdown",
   "metadata": {},
   "source": [
    "https://www.youtube.com/watch?v=UU1WVnMk4E8&t=3976s\n",
    "\n",
    "and \n",
    "\n",
    "https://www.youtube.com/watch?v=kCc8FmEb1nY&t=660s"
   ]
  },
  {
   "cell_type": "code",
   "execution_count": 23,
   "metadata": {},
   "outputs": [
    {
     "name": "stdout",
     "output_type": "stream",
     "text": [
      "cuda\n"
     ]
    }
   ],
   "source": [
    "# Start by importing necessary libraries\n",
    "import numpy as np\n",
    "import time \n",
    "from tqdm import tqdm\n",
    "\n",
    "import torch \n",
    "import torch.nn as nn\n",
    "import torch.nn.functional as F\n",
    "\n",
    "# Check for cuda\n",
    "device = 'cuda' if torch.cuda.is_available() else 'cpu'\n",
    "print(device)\n",
    "\n",
    "# Setting two important hyperparameters\n",
    "block_size = 8\n",
    "batch_size = 4"
   ]
  },
  {
   "cell_type": "markdown",
   "metadata": {},
   "source": [
    "### Step 1: Looking at the text file"
   ]
  },
  {
   "cell_type": "code",
   "execution_count": 2,
   "metadata": {},
   "outputs": [
    {
     "name": "stdout",
     "output_type": "stream",
     "text": [
      "270153\n"
     ]
    }
   ],
   "source": [
    "with open('The_Great_Gatsby.txt', 'r', encoding='utf-8') as file:\n",
    "    txt_file = file.read()\n",
    "print(len(txt_file))"
   ]
  },
  {
   "cell_type": "markdown",
   "metadata": {},
   "source": [
    "### Step 2: Construct a vocabulary"
   ]
  },
  {
   "cell_type": "code",
   "execution_count": 3,
   "metadata": {},
   "outputs": [
    {
     "name": "stdout",
     "output_type": "stream",
     "text": [
      "['\\n', ' ', '!', '$', '(', ')', '*', ',', '-', '.', '0', '1', '2', '3', '4', '5', '6', '7', '8', '9', ':', ';', '?', 'A', 'B', 'C', 'D', 'E', 'F', 'G', 'H', 'I', 'J', 'K', 'L', 'M', 'N', 'O', 'P', 'Q', 'R', 'S', 'T', 'U', 'V', 'W', 'X', 'Y', '[', ']', 'a', 'b', 'c', 'd', 'e', 'f', 'g', 'h', 'i', 'j', 'k', 'l', 'm', 'n', 'o', 'p', 'q', 'r', 's', 't', 'u', 'v', 'w', 'x', 'y', 'z', 'ç', 'é', 'ê', 'ô', '\\u200a', '—', '‘', '’', '“', '”', '…', '\\ufeff']\n",
      "Total number of unique characters/Vocabulary size: 88\n"
     ]
    }
   ],
   "source": [
    "# Get unique characters\n",
    "chars = sorted(set(txt_file))\n",
    "print(chars)\n",
    "vocabulary_size = len(chars)\n",
    "print('Total number of unique characters/Vocabulary size:', vocabulary_size)"
   ]
  },
  {
   "cell_type": "code",
   "execution_count": 4,
   "metadata": {},
   "outputs": [
    {
     "name": "stdout",
     "output_type": "stream",
     "text": [
      "[(0, '\\n'), (1, ' '), (2, '!'), (3, '$'), (4, '('), (5, ')'), (6, '*'), (7, ','), (8, '-'), (9, '.'), (10, '0'), (11, '1'), (12, '2'), (13, '3'), (14, '4'), (15, '5'), (16, '6'), (17, '7'), (18, '8'), (19, '9'), (20, ':'), (21, ';'), (22, '?'), (23, 'A'), (24, 'B'), (25, 'C'), (26, 'D'), (27, 'E'), (28, 'F'), (29, 'G'), (30, 'H'), (31, 'I'), (32, 'J'), (33, 'K'), (34, 'L'), (35, 'M'), (36, 'N'), (37, 'O'), (38, 'P'), (39, 'Q'), (40, 'R'), (41, 'S'), (42, 'T'), (43, 'U'), (44, 'V'), (45, 'W'), (46, 'X'), (47, 'Y'), (48, '['), (49, ']'), (50, 'a'), (51, 'b'), (52, 'c'), (53, 'd'), (54, 'e'), (55, 'f'), (56, 'g'), (57, 'h'), (58, 'i'), (59, 'j'), (60, 'k'), (61, 'l'), (62, 'm'), (63, 'n'), (64, 'o'), (65, 'p'), (66, 'q'), (67, 'r'), (68, 's'), (69, 't'), (70, 'u'), (71, 'v'), (72, 'w'), (73, 'x'), (74, 'y'), (75, 'z'), (76, 'ç'), (77, 'é'), (78, 'ê'), (79, 'ô'), (80, '\\u200a'), (81, '—'), (82, '‘'), (83, '’'), (84, '“'), (85, '”'), (86, '…'), (87, '\\ufeff')]\n"
     ]
    }
   ],
   "source": [
    "print(list(enumerate(chars)))"
   ]
  },
  {
   "cell_type": "markdown",
   "metadata": {},
   "source": [
    "### Step 3: Characterwise tokensiation"
   ]
  },
  {
   "cell_type": "code",
   "execution_count": 5,
   "metadata": {},
   "outputs": [],
   "source": [
    "# Create encoder and decoder for characterwise tokenisation\n",
    "string_to_int = {\n",
    "    ch:i for i,ch in enumerate(chars)\n",
    "}\n",
    "\n",
    "int_to_string = {\n",
    "    i:ch for i,ch in enumerate(chars)\n",
    "}\n",
    "\n",
    "charwise_encoder = lambda input_word: [string_to_int[char] for char in input_word]\n",
    "charwise_decoder = lambda input_tokenised_word: ''.join([int_to_string[i] for i in input_tokenised_word])"
   ]
  },
  {
   "cell_type": "code",
   "execution_count": 6,
   "metadata": {},
   "outputs": [
    {
     "name": "stdout",
     "output_type": "stream",
     "text": [
      "[32, 50, 56, 59, 58, 69, 1, 41, 58, 63, 56, 57]\n"
     ]
    }
   ],
   "source": [
    "# Experimenting with tokeniser\n",
    "encoded_Jagjit_Singh = charwise_encoder('Jagjit Singh')\n",
    "print(encoded_Jagjit_Singh)"
   ]
  },
  {
   "cell_type": "code",
   "execution_count": 7,
   "metadata": {},
   "outputs": [
    {
     "name": "stdout",
     "output_type": "stream",
     "text": [
      "Jagjit Singh\n"
     ]
    }
   ],
   "source": [
    "decoded_Jagjit_Singh = charwise_decoder(encoded_Jagjit_Singh)\n",
    "print(decoded_Jagjit_Singh)"
   ]
  },
  {
   "cell_type": "code",
   "execution_count": 9,
   "metadata": {},
   "outputs": [
    {
     "name": "stdout",
     "output_type": "stream",
     "text": [
      "tensor([87, 31, 63,  1, 62, 74,  1, 74, 64, 70, 63, 56, 54, 67,  1, 50, 63, 53,\n",
      "         1, 62, 64, 67, 54,  1, 71, 70, 61, 63, 54, 67, 50, 51, 61, 54,  1, 74,\n",
      "        54, 50, 67, 68,  1, 62, 74,  1, 55, 50, 69, 57, 54, 67])\n"
     ]
    }
   ],
   "source": [
    "# Convert the txt_file from array/list to tensor\n",
    "data = torch.tensor(charwise_encoder(txt_file), dtype=torch.long)\n",
    "print(data[:50])"
   ]
  },
  {
   "cell_type": "markdown",
   "metadata": {},
   "source": [
    "### Step 4: Splitting the dataset "
   ]
  },
  {
   "cell_type": "code",
   "execution_count": 10,
   "metadata": {},
   "outputs": [],
   "source": [
    "# Split the dataset\n",
    "train_percentage_split = int(0.8*len(data))\n",
    "train_data = data[:train_percentage_split]\n",
    "val_data = data[train_percentage_split:]"
   ]
  },
  {
   "cell_type": "code",
   "execution_count": 11,
   "metadata": {},
   "outputs": [
    {
     "name": "stdout",
     "output_type": "stream",
     "text": [
      "context: tensor([87]) ; target: tensor(31)\n",
      "context: tensor([87, 31]) ; target: tensor(63)\n",
      "context: tensor([87, 31, 63]) ; target: tensor(1)\n",
      "context: tensor([87, 31, 63,  1]) ; target: tensor(62)\n",
      "context: tensor([87, 31, 63,  1, 62]) ; target: tensor(74)\n",
      "context: tensor([87, 31, 63,  1, 62, 74]) ; target: tensor(1)\n",
      "context: tensor([87, 31, 63,  1, 62, 74,  1]) ; target: tensor(74)\n",
      "context: tensor([87, 31, 63,  1, 62, 74,  1, 74]) ; target: tensor(64)\n"
     ]
    }
   ],
   "source": [
    "x = train_data[:block_size]\n",
    "y = train_data[1:block_size+1]\n",
    "\n",
    "for i in range(block_size):\n",
    "    context = x[:i+1]\n",
    "    targ = y[i]\n",
    "    print('context:', context, ';', 'target:', targ)"
   ]
  },
  {
   "cell_type": "code",
   "execution_count": 25,
   "metadata": {},
   "outputs": [],
   "source": [
    "# Lets create `get_batch` function. Kind of dataloader\n",
    "def get_batch(split):\n",
    "    data = train_data if split=='train' else val_data\n",
    "    random_indexes = torch.randint(0, (len(data) - block_size), (batch_size,))\n",
    "    # print(random_indexes)\n",
    "    x = torch.stack([data[i:i+block_size] for i in random_indexes])\n",
    "    y = torch.stack([data[i+1:i+block_size+1] for i in random_indexes])\n",
    "    # move the data to gpus\n",
    "    x, y = x.to(device), y.to(device)\n",
    "    return x, y"
   ]
  },
  {
   "cell_type": "code",
   "execution_count": 14,
   "metadata": {},
   "outputs": [
    {
     "name": "stdout",
     "output_type": "stream",
     "text": [
      "tensor([180798, 130024, 181417, 163009])\n",
      "context/inputs:\n",
      "tensor([[56, 50, 68,  2, 85,  1, 52, 67],\n",
      "        [70, 52, 60, 58, 61, 74,  1, 31],\n",
      "        [57, 69,  1, 58, 69,  1, 61, 50],\n",
      "        [61, 58, 56, 57, 69, 68,  0, 72]], device='cuda:0')\n",
      "target:\n",
      "tensor([[50, 68,  2, 85,  1, 52, 67, 58],\n",
      "        [52, 60, 58, 61, 74,  1, 31,  1],\n",
      "        [69,  1, 58, 69,  1, 61, 50, 68],\n",
      "        [58, 56, 57, 69, 68,  0, 72, 54]], device='cuda:0')\n"
     ]
    }
   ],
   "source": [
    "# Working with get_batch function\n",
    "x, y = get_batch('train')\n",
    "print('context/inputs:')\n",
    "print(x)\n",
    "print('target:')\n",
    "print(y)\n",
    "\n",
    "# We will have 4 random int values which is the starting point of each batch and have corresponding target"
   ]
  },
  {
   "cell_type": "markdown",
   "metadata": {},
   "source": [
    "### Step 6: Creating the Bigram class\n",
    "\n",
    "Just for the context on what does `nn.Embedding` give as an output:\n",
    "\n",
    "```python\n",
    "vocab_size = 4000\n",
    "embedding_dim = 5 \n",
    "# In a sense, this is 5 dimensional space where each element of vocab is represented by a vector in that space.\n",
    "\n",
    "# Initialise the embedding layer\n",
    "embedding = nn.Embedding(vocab_size, embedding_dim)\n",
    "\n",
    "# Create some example input data\n",
    "input_data = torch.LongTensor([[1, 2, 3, 4], [5, 6, 7, 8]])\n",
    "\n",
    "# Pass the input data through the embedding layer\n",
    "embedded_data = embedding(input_data)\n",
    "\n",
    "print(embedded_data.shape)\n",
    "# 2 is the batch size, 4 is the sequence length, and 5 is the embedding dimension\n",
    "```"
   ]
  },
  {
   "cell_type": "code",
   "execution_count": 37,
   "metadata": {},
   "outputs": [],
   "source": [
    "eval_iters = 200\n",
    "# added this later on\n",
    "@torch.no_grad()\n",
    "def estimate_loss():\n",
    "    out = {}\n",
    "    model.eval() # good practice: keep in mind the mode we are in. this helps us understand/build our model correctly. \n",
    "    for split in ['train', 'val']:\n",
    "        losses = torch.zeros(eval_iters)\n",
    "        for k in range(eval_iters):\n",
    "            X, Y = get_batch(split)\n",
    "            logits, loss = model(X, Y)\n",
    "            losses[k] = loss.item()\n",
    "        out[split] = losses.mean()\n",
    "    model.train()\n",
    "    return out"
   ]
  },
  {
   "cell_type": "code",
   "execution_count": 17,
   "metadata": {},
   "outputs": [],
   "source": [
    "class BigramLM(nn.Module):\n",
    "    def __init__(self, vocab_size):\n",
    "        super().__init__()\n",
    "\n",
    "        # creating a readoff table. Size: vocab_size x vocab_size\n",
    "        self.token_embedding_table = nn.Embedding(vocab_size, vocab_size)\n",
    "\n",
    "    def forward(self, index, targets=None):\n",
    "\n",
    "        logits = self.token_embedding_table(index) # (batch, seq length/time, channels)\n",
    "\n",
    "        if targets is None:\n",
    "            loss = None\n",
    "        else:\n",
    "            # read cross_entropy documentation to get the idea about the inputs\n",
    "            B, T, C = logits.shape\n",
    "            logits = logits.view(B*T, C) # stretches out the matrix along single dimension\n",
    "            targets = targets.view(B*T)\n",
    "            loss = F.cross_entropy(logits, targets) # log-likelihood = -ln(probability)\n",
    "\n",
    "        return logits, loss\n",
    "    \n",
    "    def generate(self, index, max_new_tokens):\n",
    "        for _ in range(max_new_tokens):\n",
    "            logits, loss = self.forward(index) # or self(index)\n",
    "            # focus only on last time step\n",
    "            logits = logits[:, -1, :] # (B, C)\n",
    "            # apply softmax to get probabilities\n",
    "            probabs = F.softmax(logits, dim=-1)\n",
    "            # getting the probability\n",
    "            index_next = torch.multinomial(probabs, num_samples=1) # (B, 1)\n",
    "            # append sampled index to the running sequence\n",
    "            index = torch.cat((index, index_next), dim=1) # (B, T+1)\n",
    "        return index"
   ]
  },
  {
   "cell_type": "markdown",
   "metadata": {},
   "source": [
    "How does `view` work?\n",
    "\n",
    "```python \n",
    "a:\n",
    "tensor([[[5, 0, 9],\n",
    "         [5, 9, 8],\n",
    "         [5, 3, 1]],\n",
    "\n",
    "        [[1, 4, 4],\n",
    "         [3, 0, 8],\n",
    "         [3, 8, 9]]])\n",
    "a_after_view:\n",
    "tensor([[5, 0, 9],\n",
    "        [5, 9, 8],\n",
    "        [5, 3, 1],\n",
    "        [1, 4, 4],\n",
    "        [3, 0, 8],\n",
    "        [3, 8, 9]])\n",
    "```"
   ]
  },
  {
   "cell_type": "markdown",
   "metadata": {},
   "source": [
    "#### Logits Explained\n",
    "\n",
    "1. After processing input data through the layers of a neural network, the final layer generates a set of raw scores or values for each class in a classification task. These raw scores are often referred to as logits.\n",
    "\n",
    "2. **Purpose:** Logits provide a measure of confidence or certainty that the model assigns to each class. Higher logits indicate greater confidence in a particular class, while lower logits indicate less confidence."
   ]
  },
  {
   "cell_type": "code",
   "execution_count": 18,
   "metadata": {},
   "outputs": [
    {
     "name": "stdout",
     "output_type": "stream",
     "text": [
      "torch.Size([32, 88])\n",
      "tensor(5.0233, device='cuda:0', grad_fn=<NllLossBackward0>)\n",
      "\n",
      "hdXé9tGThçfJnd.iôV2 nxtKg9o:Nô0jD3uxyrKçJsuFnAi21EaEoyuz \n",
      "LRrô…OT0\n",
      "3﻿WO3ip-Eêh5z().Wavçk“w”(5êX N12y\n"
     ]
    }
   ],
   "source": [
    "model = BigramLM(vocab_size=vocabulary_size) # vocabulary_size=88 (The_Great_Gatsby)\n",
    "m = model.to(device)\n",
    "logits, loss = m(x, y)\n",
    "print(logits.shape) # (4, 8, 88)\n",
    "print(loss)\n",
    "\n",
    "# Lets do some predictions\n",
    "# Start by feeding some input (get some index)\n",
    "idx = torch.zeros((1,1), dtype=torch.long, device=device)\n",
    "generate_values = m.generate(index=idx, max_new_tokens=100)\n",
    "print(charwise_decoder(generate_values[0].tolist()))"
   ]
  },
  {
   "cell_type": "markdown",
   "metadata": {},
   "source": [
    "### Step 7: Training the model"
   ]
  },
  {
   "cell_type": "code",
   "execution_count": 21,
   "metadata": {},
   "outputs": [],
   "source": [
    "# start by defining an optimizer\n",
    "optimizer = torch.optim.AdamW(model.parameters(), lr=1e-4)"
   ]
  },
  {
   "cell_type": "code",
   "execution_count": 39,
   "metadata": {},
   "outputs": [
    {
     "name": "stderr",
     "output_type": "stream",
     "text": [
      "loss::   1%|          | 79/10000 [00:00<00:46, 212.83it/s]"
     ]
    },
    {
     "name": "stdout",
     "output_type": "stream",
     "text": [
      "step: 0, train loss: 2.535, val loss: 2.548\n"
     ]
    },
    {
     "name": "stderr",
     "output_type": "stream",
     "text": [
      "loss::   3%|▎         | 300/10000 [00:01<00:29, 328.94it/s]"
     ]
    },
    {
     "name": "stdout",
     "output_type": "stream",
     "text": [
      "step: 200, train loss: 2.537, val loss: 2.532\n"
     ]
    },
    {
     "name": "stderr",
     "output_type": "stream",
     "text": [
      "loss::   5%|▌         | 523/10000 [00:01<00:26, 354.10it/s]"
     ]
    },
    {
     "name": "stdout",
     "output_type": "stream",
     "text": [
      "step: 400, train loss: 2.527, val loss: 2.524\n"
     ]
    },
    {
     "name": "stderr",
     "output_type": "stream",
     "text": [
      "loss::   7%|▋         | 678/10000 [00:02<00:27, 336.42it/s]"
     ]
    },
    {
     "name": "stdout",
     "output_type": "stream",
     "text": [
      "step: 600, train loss: 2.531, val loss: 2.531\n"
     ]
    },
    {
     "name": "stderr",
     "output_type": "stream",
     "text": [
      "loss::   9%|▉         | 899/10000 [00:02<00:25, 353.68it/s]"
     ]
    },
    {
     "name": "stdout",
     "output_type": "stream",
     "text": [
      "step: 800, train loss: 2.532, val loss: 2.528\n"
     ]
    },
    {
     "name": "stderr",
     "output_type": "stream",
     "text": [
      "loss::  11%|█         | 1123/10000 [00:03<00:24, 362.17it/s]"
     ]
    },
    {
     "name": "stdout",
     "output_type": "stream",
     "text": [
      "step: 1000, train loss: 2.528, val loss: 2.536\n"
     ]
    },
    {
     "name": "stderr",
     "output_type": "stream",
     "text": [
      "loss::  13%|█▎        | 1279/10000 [00:04<00:25, 341.82it/s]"
     ]
    },
    {
     "name": "stdout",
     "output_type": "stream",
     "text": [
      "step: 1200, train loss: 2.528, val loss: 2.524\n"
     ]
    },
    {
     "name": "stderr",
     "output_type": "stream",
     "text": [
      "loss::  15%|█▌        | 1500/10000 [00:04<00:23, 354.81it/s]"
     ]
    },
    {
     "name": "stdout",
     "output_type": "stream",
     "text": [
      "step: 1400, train loss: 2.519, val loss: 2.519\n"
     ]
    },
    {
     "name": "stderr",
     "output_type": "stream",
     "text": [
      "loss::  17%|█▋        | 1723/10000 [00:05<00:22, 360.87it/s]"
     ]
    },
    {
     "name": "stdout",
     "output_type": "stream",
     "text": [
      "step: 1600, train loss: 2.530, val loss: 2.524\n"
     ]
    },
    {
     "name": "stderr",
     "output_type": "stream",
     "text": [
      "loss::  19%|█▉        | 1879/10000 [00:05<00:23, 341.13it/s]"
     ]
    },
    {
     "name": "stdout",
     "output_type": "stream",
     "text": [
      "step: 1800, train loss: 2.524, val loss: 2.519\n"
     ]
    },
    {
     "name": "stderr",
     "output_type": "stream",
     "text": [
      "loss::  21%|██        | 2101/10000 [00:06<00:22, 356.03it/s]"
     ]
    },
    {
     "name": "stdout",
     "output_type": "stream",
     "text": [
      "step: 2000, train loss: 2.531, val loss: 2.508\n"
     ]
    },
    {
     "name": "stderr",
     "output_type": "stream",
     "text": [
      "loss::  23%|██▎       | 2325/10000 [00:07<00:21, 363.63it/s]"
     ]
    },
    {
     "name": "stdout",
     "output_type": "stream",
     "text": [
      "step: 2200, train loss: 2.522, val loss: 2.521\n"
     ]
    },
    {
     "name": "stderr",
     "output_type": "stream",
     "text": [
      "loss::  25%|██▍       | 2479/10000 [00:07<00:22, 341.15it/s]"
     ]
    },
    {
     "name": "stdout",
     "output_type": "stream",
     "text": [
      "step: 2400, train loss: 2.528, val loss: 2.537\n"
     ]
    },
    {
     "name": "stderr",
     "output_type": "stream",
     "text": [
      "loss::  27%|██▋       | 2700/10000 [00:08<00:20, 355.01it/s]"
     ]
    },
    {
     "name": "stdout",
     "output_type": "stream",
     "text": [
      "step: 2600, train loss: 2.518, val loss: 2.518\n"
     ]
    },
    {
     "name": "stderr",
     "output_type": "stream",
     "text": [
      "loss::  29%|██▉       | 2925/10000 [00:08<00:19, 363.06it/s]"
     ]
    },
    {
     "name": "stdout",
     "output_type": "stream",
     "text": [
      "step: 2800, train loss: 2.517, val loss: 2.518\n"
     ]
    },
    {
     "name": "stderr",
     "output_type": "stream",
     "text": [
      "loss::  31%|███       | 3079/10000 [00:09<00:20, 340.56it/s]"
     ]
    },
    {
     "name": "stdout",
     "output_type": "stream",
     "text": [
      "step: 3000, train loss: 2.524, val loss: 2.519\n"
     ]
    },
    {
     "name": "stderr",
     "output_type": "stream",
     "text": [
      "loss::  33%|███▎      | 3300/10000 [00:10<00:18, 354.71it/s]"
     ]
    },
    {
     "name": "stdout",
     "output_type": "stream",
     "text": [
      "step: 3200, train loss: 2.513, val loss: 2.516\n"
     ]
    },
    {
     "name": "stderr",
     "output_type": "stream",
     "text": [
      "loss::  35%|███▌      | 3523/10000 [00:10<00:17, 361.54it/s]"
     ]
    },
    {
     "name": "stdout",
     "output_type": "stream",
     "text": [
      "step: 3400, train loss: 2.520, val loss: 2.512\n"
     ]
    },
    {
     "name": "stderr",
     "output_type": "stream",
     "text": [
      "loss::  37%|███▋      | 3678/10000 [00:11<00:18, 340.29it/s]"
     ]
    },
    {
     "name": "stdout",
     "output_type": "stream",
     "text": [
      "step: 3600, train loss: 2.512, val loss: 2.509\n"
     ]
    },
    {
     "name": "stderr",
     "output_type": "stream",
     "text": [
      "loss::  39%|███▉      | 3899/10000 [00:11<00:17, 353.91it/s]"
     ]
    },
    {
     "name": "stdout",
     "output_type": "stream",
     "text": [
      "step: 3800, train loss: 2.523, val loss: 2.515\n"
     ]
    },
    {
     "name": "stderr",
     "output_type": "stream",
     "text": [
      "loss::  41%|████      | 4122/10000 [00:12<00:16, 360.51it/s]"
     ]
    },
    {
     "name": "stdout",
     "output_type": "stream",
     "text": [
      "step: 4000, train loss: 2.513, val loss: 2.511\n"
     ]
    },
    {
     "name": "stderr",
     "output_type": "stream",
     "text": [
      "loss::  43%|████▎     | 4279/10000 [00:12<00:16, 341.40it/s]"
     ]
    },
    {
     "name": "stdout",
     "output_type": "stream",
     "text": [
      "step: 4200, train loss: 2.515, val loss: 2.527\n"
     ]
    },
    {
     "name": "stderr",
     "output_type": "stream",
     "text": [
      "loss::  45%|████▌     | 4501/10000 [00:13<00:15, 355.35it/s]"
     ]
    },
    {
     "name": "stdout",
     "output_type": "stream",
     "text": [
      "step: 4400, train loss: 2.517, val loss: 2.522\n"
     ]
    },
    {
     "name": "stderr",
     "output_type": "stream",
     "text": [
      "loss::  47%|████▋     | 4726/10000 [00:14<00:14, 362.50it/s]"
     ]
    },
    {
     "name": "stdout",
     "output_type": "stream",
     "text": [
      "step: 4600, train loss: 2.517, val loss: 2.493\n"
     ]
    },
    {
     "name": "stderr",
     "output_type": "stream",
     "text": [
      "loss::  49%|████▉     | 4879/10000 [00:14<00:15, 340.03it/s]"
     ]
    },
    {
     "name": "stdout",
     "output_type": "stream",
     "text": [
      "step: 4800, train loss: 2.519, val loss: 2.514\n"
     ]
    },
    {
     "name": "stderr",
     "output_type": "stream",
     "text": [
      "loss::  51%|█████     | 5100/10000 [00:15<00:13, 354.11it/s]"
     ]
    },
    {
     "name": "stdout",
     "output_type": "stream",
     "text": [
      "step: 5000, train loss: 2.516, val loss: 2.507\n"
     ]
    },
    {
     "name": "stderr",
     "output_type": "stream",
     "text": [
      "loss::  53%|█████▎    | 5323/10000 [00:16<00:12, 361.34it/s]"
     ]
    },
    {
     "name": "stdout",
     "output_type": "stream",
     "text": [
      "step: 5200, train loss: 2.512, val loss: 2.506\n"
     ]
    },
    {
     "name": "stderr",
     "output_type": "stream",
     "text": [
      "loss::  55%|█████▍    | 5479/10000 [00:16<00:13, 341.02it/s]"
     ]
    },
    {
     "name": "stdout",
     "output_type": "stream",
     "text": [
      "step: 5400, train loss: 2.518, val loss: 2.502\n"
     ]
    },
    {
     "name": "stderr",
     "output_type": "stream",
     "text": [
      "loss::  57%|█████▋    | 5701/10000 [00:17<00:12, 355.09it/s]"
     ]
    },
    {
     "name": "stdout",
     "output_type": "stream",
     "text": [
      "step: 5600, train loss: 2.505, val loss: 2.506\n"
     ]
    },
    {
     "name": "stderr",
     "output_type": "stream",
     "text": [
      "loss::  59%|█████▉    | 5923/10000 [00:17<00:11, 359.95it/s]"
     ]
    },
    {
     "name": "stdout",
     "output_type": "stream",
     "text": [
      "step: 5800, train loss: 2.505, val loss: 2.503\n"
     ]
    },
    {
     "name": "stderr",
     "output_type": "stream",
     "text": [
      "loss::  61%|██████    | 6079/10000 [00:18<00:11, 339.62it/s]"
     ]
    },
    {
     "name": "stdout",
     "output_type": "stream",
     "text": [
      "step: 6000, train loss: 2.508, val loss: 2.508\n"
     ]
    },
    {
     "name": "stderr",
     "output_type": "stream",
     "text": [
      "loss::  63%|██████▎   | 6300/10000 [00:18<00:10, 354.16it/s]"
     ]
    },
    {
     "name": "stdout",
     "output_type": "stream",
     "text": [
      "step: 6200, train loss: 2.505, val loss: 2.507\n"
     ]
    },
    {
     "name": "stderr",
     "output_type": "stream",
     "text": [
      "loss::  65%|██████▌   | 6524/10000 [00:19<00:09, 360.98it/s]"
     ]
    },
    {
     "name": "stdout",
     "output_type": "stream",
     "text": [
      "step: 6400, train loss: 2.502, val loss: 2.497\n"
     ]
    },
    {
     "name": "stderr",
     "output_type": "stream",
     "text": [
      "loss::  67%|██████▋   | 6679/10000 [00:20<00:09, 340.01it/s]"
     ]
    },
    {
     "name": "stdout",
     "output_type": "stream",
     "text": [
      "step: 6600, train loss: 2.521, val loss: 2.498\n"
     ]
    },
    {
     "name": "stderr",
     "output_type": "stream",
     "text": [
      "loss::  69%|██████▉   | 6900/10000 [00:20<00:08, 353.66it/s]"
     ]
    },
    {
     "name": "stdout",
     "output_type": "stream",
     "text": [
      "step: 6800, train loss: 2.513, val loss: 2.501\n"
     ]
    },
    {
     "name": "stderr",
     "output_type": "stream",
     "text": [
      "loss::  71%|███████   | 7123/10000 [00:21<00:07, 360.37it/s]"
     ]
    },
    {
     "name": "stdout",
     "output_type": "stream",
     "text": [
      "step: 7000, train loss: 2.502, val loss: 2.496\n"
     ]
    },
    {
     "name": "stderr",
     "output_type": "stream",
     "text": [
      "loss::  73%|███████▎  | 7279/10000 [00:21<00:07, 340.48it/s]"
     ]
    },
    {
     "name": "stdout",
     "output_type": "stream",
     "text": [
      "step: 7200, train loss: 2.499, val loss: 2.496\n"
     ]
    },
    {
     "name": "stderr",
     "output_type": "stream",
     "text": [
      "loss::  75%|███████▌  | 7501/10000 [00:22<00:07, 354.78it/s]"
     ]
    },
    {
     "name": "stdout",
     "output_type": "stream",
     "text": [
      "step: 7400, train loss: 2.507, val loss: 2.489\n"
     ]
    },
    {
     "name": "stderr",
     "output_type": "stream",
     "text": [
      "loss::  77%|███████▋  | 7726/10000 [00:23<00:06, 362.39it/s]"
     ]
    },
    {
     "name": "stdout",
     "output_type": "stream",
     "text": [
      "step: 7600, train loss: 2.508, val loss: 2.500\n"
     ]
    },
    {
     "name": "stderr",
     "output_type": "stream",
     "text": [
      "loss::  79%|███████▉  | 7879/10000 [00:23<00:06, 340.19it/s]"
     ]
    },
    {
     "name": "stdout",
     "output_type": "stream",
     "text": [
      "step: 7800, train loss: 2.510, val loss: 2.492\n"
     ]
    },
    {
     "name": "stderr",
     "output_type": "stream",
     "text": [
      "loss::  81%|████████  | 8101/10000 [00:24<00:05, 355.53it/s]"
     ]
    },
    {
     "name": "stdout",
     "output_type": "stream",
     "text": [
      "step: 8000, train loss: 2.495, val loss: 2.495\n"
     ]
    },
    {
     "name": "stderr",
     "output_type": "stream",
     "text": [
      "loss::  83%|████████▎ | 8323/10000 [00:24<00:04, 358.99it/s]"
     ]
    },
    {
     "name": "stdout",
     "output_type": "stream",
     "text": [
      "step: 8200, train loss: 2.503, val loss: 2.493\n"
     ]
    },
    {
     "name": "stderr",
     "output_type": "stream",
     "text": [
      "loss::  85%|████████▍ | 8479/10000 [00:25<00:04, 339.12it/s]"
     ]
    },
    {
     "name": "stdout",
     "output_type": "stream",
     "text": [
      "step: 8400, train loss: 2.499, val loss: 2.488\n"
     ]
    },
    {
     "name": "stderr",
     "output_type": "stream",
     "text": [
      "loss::  87%|████████▋ | 8700/10000 [00:26<00:03, 354.10it/s]"
     ]
    },
    {
     "name": "stdout",
     "output_type": "stream",
     "text": [
      "step: 8600, train loss: 2.502, val loss: 2.498\n"
     ]
    },
    {
     "name": "stderr",
     "output_type": "stream",
     "text": [
      "loss::  89%|████████▉ | 8923/10000 [00:26<00:02, 361.58it/s]"
     ]
    },
    {
     "name": "stdout",
     "output_type": "stream",
     "text": [
      "step: 8800, train loss: 2.497, val loss: 2.483\n"
     ]
    },
    {
     "name": "stderr",
     "output_type": "stream",
     "text": [
      "loss::  91%|█████████ | 9078/10000 [00:27<00:02, 339.91it/s]"
     ]
    },
    {
     "name": "stdout",
     "output_type": "stream",
     "text": [
      "step: 9000, train loss: 2.492, val loss: 2.495\n"
     ]
    },
    {
     "name": "stderr",
     "output_type": "stream",
     "text": [
      "loss::  93%|█████████▎| 9300/10000 [00:27<00:01, 355.21it/s]"
     ]
    },
    {
     "name": "stdout",
     "output_type": "stream",
     "text": [
      "step: 9200, train loss: 2.497, val loss: 2.499\n"
     ]
    },
    {
     "name": "stderr",
     "output_type": "stream",
     "text": [
      "loss::  95%|█████████▌| 9524/10000 [00:28<00:01, 361.25it/s]"
     ]
    },
    {
     "name": "stdout",
     "output_type": "stream",
     "text": [
      "step: 9400, train loss: 2.499, val loss: 2.489\n"
     ]
    },
    {
     "name": "stderr",
     "output_type": "stream",
     "text": [
      "loss::  97%|█████████▋| 9679/10000 [00:29<00:00, 340.39it/s]"
     ]
    },
    {
     "name": "stdout",
     "output_type": "stream",
     "text": [
      "step: 9600, train loss: 2.497, val loss: 2.492\n"
     ]
    },
    {
     "name": "stderr",
     "output_type": "stream",
     "text": [
      "loss::  99%|█████████▉| 9900/10000 [00:29<00:00, 353.84it/s]"
     ]
    },
    {
     "name": "stdout",
     "output_type": "stream",
     "text": [
      "step: 9800, train loss: 2.502, val loss: 2.506\n"
     ]
    },
    {
     "name": "stderr",
     "output_type": "stream",
     "text": [
      "loss:: 100%|██████████| 10000/10000 [00:29<00:00, 334.88it/s]\n"
     ]
    }
   ],
   "source": [
    "# change the batch size\n",
    "batch_size = 32\n",
    "max_iter = 10000\n",
    "loss_progress = []\n",
    "\n",
    "for i in tqdm(range(max_iter), desc=\"loss:\"):\n",
    "\n",
    "    if i % eval_iters == 0:\n",
    "        losses = estimate_loss()\n",
    "        print(f\"step: {i}, train loss: {losses['train']:.3f}, val loss: {losses['val']:.3f}\")\n",
    "\n",
    "    # sample a batch of data \n",
    "    xb, yb = get_batch('train')\n",
    "\n",
    "    # evaluate loss\n",
    "    logits, loss = model.forward(xb, yb)\n",
    "    optimizer.zero_grad(set_to_none=True)\n",
    "    loss.backward()\n",
    "    optimizer.step()\n",
    "    # loss_progress.append(loss.item())"
   ]
  },
  {
   "cell_type": "code",
   "execution_count": 34,
   "metadata": {},
   "outputs": [
    {
     "data": {
      "text/plain": [
       "[<matplotlib.lines.Line2D at 0x7f2e8b17b430>]"
      ]
     },
     "execution_count": 34,
     "metadata": {},
     "output_type": "execute_result"
    },
    {
     "data": {
      "image/png": "[encoded data removed]",
      "text/plain": [
       "<Figure size 640x480 with 1 Axes>"
      ]
     },
     "metadata": {},
     "output_type": "display_data"
    }
   ],
   "source": [
    "import matplotlib.pyplot as plt\n",
    "\n",
    "plt.plot(loss_progress)"
   ]
  },
  {
   "cell_type": "code",
   "execution_count": 36,
   "metadata": {},
   "outputs": [
    {
     "name": "stdout",
     "output_type": "stream",
     "text": [
      "\n",
      "t, ter trof*Cd—y.\n",
      "cl hathjghele[DPsen,”\n",
      "j?”\n",
      "“Neve r cPaisigr oed Mind gows y tht aj3forous hf y kofisotori2ld5s.” a heistind, icar ringun p wnKéwe anlf k’HxêC“ENe w keyond wd’s ok Th*—shy, s.”\n",
      "qus*ind in t ke U:\n",
      "itthencsldintinto. t msede pe themssl, s wo’siveswnd non t’s ce uns y-eat plig’vem, hewhear an]N?--I’d hasO’s is mak1s k tsooI lyot(é(-cormbunt I ofisy.\n",
      "y wGof y bs, kely she tabane Ts Ganrr wse s angowash\n",
      "\n",
      "\n",
      "I’shinfe ant q)pham Wc—avid\n",
      "pU’s sid lis classhele\n",
      "sthiongaisule chur we a pous.\n"
     ]
    }
   ],
   "source": [
    "# Lets do some predictions\n",
    "# Start by feeding some input (get some index)\n",
    "idx = torch.zeros((1,1), dtype=torch.long, device=device)\n",
    "generate_values = m.generate(index=idx, max_new_tokens=500)\n",
    "print(charwise_decoder(generate_values[0].tolist()))"
   ]
  },
  {
   "cell_type": "code",
   "execution_count": null,
   "metadata": {},
   "outputs": [],
   "source": []
  }
 ],
 "metadata": {
  "kernelspec": {
   "display_name": "en23",
   "language": "python",
   "name": "kernel_name"
  },
  "language_info": {
   "codemirror_mode": {
    "name": "ipython",
    "version": 3
   },
   "file_extension": ".py",
   "mimetype": "text/x-python",
   "name": "python",
   "nbconvert_exporter": "python",
   "pygments_lexer": "ipython3",
   "version": "3.10.13"
  }
 },
 "nbformat": 4,
 "nbformat_minor": 2
}
